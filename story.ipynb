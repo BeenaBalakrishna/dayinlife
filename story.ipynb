{
 "cells": [
  {
   "cell_type": "markdown",
   "metadata": {},
   "source": [
    "<h1><center>A Day in an American's Life</center></h1>"
   ]
  },
  {
   "cell_type": "markdown",
   "metadata": {},
   "source": [
    "It is a well-known fact that a complete rotation of the planet Earth takes 24 hours causing the formation of day and night. The fascinating part is to analyze how the people in the world decide to spend the available precious 24 hours. The demographics plays a very vital role on analysing and understanding the life-style of people mainly due to the influence of the time-zone, culture, population, socio-economy factors, current trend, etc. In this article, we focus on visually studying the behaviour of person living in the United States for the most obvious reasons that the country comprises of diverse, multi-cultural and a democratic-republic population.\n",
    "\n",
    "To go another step ahead, this article shows how an American spends his/her day which is classified into a number of activities like Personal Care, Travelling, Socialising-Leisure time, Religion, Work, Sports- Fitness and so on."
   ]
  },
  {
   "cell_type": "code",
   "execution_count": 1,
   "metadata": {},
   "outputs": [],
   "source": [
    "#nbi:hide_in\n",
    "import pandas as pd\n",
    "import numpy as np\n",
    "import re\n",
    "import bqplot as bq\n",
    "import ipywidgets\n",
    "from ipywidgets import Layout"
   ]
  },
  {
   "cell_type": "code",
   "execution_count": 2,
   "metadata": {},
   "outputs": [],
   "source": [
    "#nbi:hide_in\n",
    "#nbi:hide_out\n",
    "ats_sum = pd.read_csv('https://raw.githubusercontent.com/sarvaniputta/nbinteract_tutorial/master/atussum_2017.csv')\n",
    "cps = pd.read_csv('https://raw.githubusercontent.com/sarvaniputta/nbinteract_tutorial/master/atuscps_2017.csv', usecols=['TUCASEID', 'GESTFIPS'])\n",
    "cps_ = cps.groupby('TUCASEID').GESTFIPS.first().to_frame()\n",
    "merged = ats_sum.merge(cps_, left_on = 'TUCASEID', right_index = True)\n",
    "\n",
    "def activity_columns(data, activity_code):\n",
    "    col_prefix = \"t\" + activity_code\n",
    "    return [column for column in data.columns if col_prefix in column]\n",
    "\n",
    "\n",
    "\n",
    "work_cols = activity_columns(merged, '0501')\n",
    "travel_cols = activity_columns(merged, '1805')\n",
    "sleep_cols = activity_columns(merged, '0101')\n",
    "religion_cols = activity_columns(merged, '1401')\n",
    "leisure_cols = activity_columns(merged, '1203')\n",
    "sports_cols = activity_columns(merged, '1301')\n",
    "housework_cols = activity_columns(merged, '0201')\n",
    "\n",
    "work_statewise = merged.loc[:, work_cols].groupby(merged.GESTFIPS).mean()\n",
    "travel_statewise = merged.loc[:, travel_cols].groupby(merged.GESTFIPS).mean()\n",
    "sleep_statewise = merged.loc[:, sleep_cols].groupby(merged.GESTFIPS).mean()\n",
    "religion_statewise = merged.loc[:, religion_cols].groupby(merged.GESTFIPS).mean()\n",
    "leisure_statewise = merged.loc[:, leisure_cols].groupby(merged.GESTFIPS).mean()\n",
    "sports_statewise = merged.loc[:, sports_cols].groupby(merged.GESTFIPS).mean()\n",
    "housework_statewise = merged.loc[:, housework_cols].groupby(merged.GESTFIPS).mean()\n",
    "\n",
    "activity_cols_dict = {0: work_cols, 1: travel_cols, 2: sleep_cols, 3: religion_cols, 4: leisure_cols,\n",
    "                      5: sports_cols, 6: housework_cols}"
   ]
  },
  {
   "cell_type": "code",
   "execution_count": 3,
   "metadata": {
    "scrolled": false
   },
   "outputs": [],
   "source": [
    "#nbi:hide_in\n",
    "#nbi:hide_out\n",
    "activity_list = ['Average Working Time', 'Average Travel Time', 'Average Sleeping Time', 'Average Religious Time',\n",
    "                'Average Leisure Time', 'Average Sports Time', 'Average Housework Time']\n",
    "\n",
    "act_dd = ipywidgets.Dropdown(options = activity_list, description = 'Select activity', \n",
    "                             style={'description_width': 'initial'})\n",
    "\n",
    "\n",
    "######################### Map ############################\n",
    "cscale = bq.ColorScale(scheme = 'Oranges')        \n",
    "                   # reverse the colorscale or Hawaii is not visible\n",
    "\n",
    "map_tt = bq.Tooltip(labels = ['State', 'Time (minutes)'], fields = ['name', 'color'])\n",
    "sc_geo = bq.AlbersUSA(scale=2400)\n",
    "states_map = bq.Map(color = work_statewise.sum(axis=1).round(1).to_dict(), \n",
    "                     map_data=bq.topo_load('map_data/USStatesMap.json'),\n",
    "                    scales = {'projection':sc_geo, 'color':cscale},tooltip = map_tt,\n",
    "                    interactions = {'click': 'select', 'hover':'tooltip', },\n",
    "                    anchor_style = {'fill':'red'}, \n",
    "                    selected_style = {'opacity': 1.0},\n",
    "                    unselected_style = {'opacity': 1.0})\n",
    "\n",
    "cax = bq.ColorAxis(scale=cscale, orientation='vertical', side='left', label='Time(minutes)')\n",
    "fig_map = bq.Figure(marks=[states_map],axes=[cax], title = 'Average Working Time',\n",
    "                   layout=Layout(min_width='800px', min_height='800px'),\n",
    "                   background_style = {'fill': 'white'},)\n",
    "fig_map.fig_margin = {'bottom': 0, 'top': 0, 'left': 70, 'right': 0}\n",
    "fig_map.aspect_ratio = 1920/1080\n",
    "\n",
    "###########################################################\n",
    "\n",
    "######################### Bar #############################\n",
    "time_spent = merged.loc[:, ['TUCASEID'] + work_cols].set_index('TUCASEID').sum(axis=1)\n",
    "\n",
    "def normalized_hist(data, bins=10):\n",
    "    counts, bins = np.histogram(data, bins=bins)\n",
    "    counts = counts*100/counts.sum()\n",
    "    return bins, counts  \n",
    "\n",
    "sc_x2 = bq.LinearScale()\n",
    "sc_y2 = bq.LinearScale()\n",
    "ax_x2 = bq.Axis(label = 'Time spent(minutes)', scale=sc_x2, orientation='horizontal')\n",
    "ax_y2 = bq.Axis(label='Population%', scale=sc_y2,orientation='vertical', grid_color='gray', grid_lines='dashed')\n",
    "x, y = normalized_hist(time_spent, bins=24)\n",
    "bars_hist = bq.Bars(x = x[:-1], y=y, align='right', scales={'x': sc_x2, 'y': sc_y2}, colors=['#13294a'])\n",
    "#           ,width=bins[1]-bins[0]  , edgecolor='black')\n",
    "fig_bar1 = bq.Figure(marks = [bars_hist],axes=[ax_x2, ax_y2], background_style = {'fill': 'white'})\n",
    "fig_bar1.layout = Layout(max_width='100%', max_height='60%')\n",
    "#fig_bar1.fig_margin = {'bottom':50, 'top':50, 'left':20, 'right':10}\n",
    "\n",
    "###########################################################\n",
    "\n",
    "##################### Age Line Plot #######################\n",
    "age_wise_act_sum = merged.groupby('TEAGE').sum()[work_cols].sum(axis=1)\n",
    "age_wise_count = merged.groupby('TEAGE').count()['TUCASEID']\n",
    "y_data_line = (age_wise_act_sum / age_wise_count).values\n",
    "x_data_line = sorted(ats_sum['TEAGE'].unique())\n",
    "\n",
    "x_sc_line = bq.OrdinalScale()\n",
    "y_sc_line = bq.LinearScale()\n",
    "\n",
    "x_ax_line = bq.Axis(scale = x_sc_line, num_ticks=10, label='Age', color='#13294a')\n",
    "y_ax_line = bq.Axis(scale = y_sc_line, num_ticks=10, \n",
    "                   orientation = 'vertical', label='Time spent in minutes',\n",
    "                    grid_color='gray', grid_lines='dashed')\n",
    "\n",
    "lines = bq.Lines(x = x_data_line, y = y_data_line, scales = {'x': x_sc_line, 'y': y_sc_line},\n",
    "                colors=['#13294a'], interpolation = 'basis')\n",
    "\n",
    "fig_line = bq.Figure(marks = [lines], axes = [x_ax_line, y_ax_line], \n",
    "                    title='Average Working Time across US', \n",
    "                    background_style = {'fill': 'white'})\n",
    "fig_line.layout = Layout(max_width='100%', max_height='60%')\n",
    "\n",
    "###########################################################\n",
    "\n",
    "##################### Interactivity #######################\n",
    "\n",
    "def on_select_map(change):\n",
    "    if not change['new']:\n",
    "        selected_fips = merged.GESTFIPS.unique()\n",
    "    else:\n",
    "        selected_fips = change['new']\n",
    "        states_map.selected = [selected_fips[-1]]\n",
    "    activity = act_dd.index\n",
    "    columns = activity_cols_dict[activity]\n",
    "    x, y = normalized_hist(merged\n",
    "                            .loc[merged.GESTFIPS.isin([selected_fips[-1]]), ['TUCASEID']+columns]\n",
    "                            .set_index('TUCASEID')\n",
    "                            .sum(axis=1), bins=24)\n",
    "    bars_hist.x = x\n",
    "    bars_hist.y = y\n",
    "    # For updating line plot\n",
    "    #merged_subset = merged[merged['GESTFIPS'] == selected_fips[-1]]\n",
    "    #age_wise_act_sum = merged_subset.groupby('TEAGE').sum()[work_cols].sum(axis=1)\n",
    "    #age_wise_count = merged_subset.groupby('TEAGE').count()['TUCASEID']\n",
    "    #lines.y = (age_wise_act_sum / age_wise_count).values\n",
    "    #lines.x = sorted(age_wise_act_sum.index)\n",
    "    \n",
    "    #print(selected_fips) Fix needed for selectex FIPS [50, 36]\n",
    "# Observe above changes \n",
    "states_map.observe(on_select_map, 'selected')\n",
    "\n",
    "def on_activity_change(change):\n",
    "    states_map.selected=[]\n",
    "    activity = act_dd.index\n",
    "    columns = activity_cols_dict[activity]\n",
    "    filtered = merged.loc[:, columns].groupby(merged.GESTFIPS).mean().sum(axis=1).round(1).to_dict()\n",
    "    states_map.color = filtered\n",
    "    fig_map.title = act_dd.value\n",
    "    # For updating line plot\n",
    "    age_wise_act_sum = merged.groupby('TEAGE').sum()[columns].sum(axis=1)\n",
    "    age_wise_count = merged.groupby('TEAGE').count()['TUCASEID']\n",
    "    lines.y = (age_wise_act_sum / age_wise_count).values\n",
    "    lines.x = sorted(ats_sum['TEAGE'].unique())\n",
    "    fig_line.title = act_dd.value + ' across US'\n",
    "    \n",
    "# Observe above changes \n",
    "act_dd.observe(on_activity_change, 'value')\n",
    "\n",
    "###########################################################\n",
    "\n",
    "# ipywidgets.VBox([act_dd, ipywidgets.HBox([fig_map, ipywidgets.VBox([fig_bar1, fig_line])])])"
   ]
  },
  {
   "cell_type": "code",
   "execution_count": 4,
   "metadata": {},
   "outputs": [
    {
     "data": {
      "application/vnd.jupyter.widget-view+json": {
       "model_id": "ad4d753af06a4236a02a245e8413f55e",
       "version_major": 2,
       "version_minor": 0
      },
      "text/plain": [
       "VBox(children=(Dropdown(description='Select activity', options=('Average Working Time', 'Average Travel Time',…"
      ]
     },
     "metadata": {},
     "output_type": "display_data"
    }
   ],
   "source": [
    "#nbi:left\n",
    "#nbi:hide_in\n",
    "ipywidgets.VBox([act_dd, fig_map])"
   ]
  },
  {
   "cell_type": "code",
   "execution_count": 5,
   "metadata": {},
   "outputs": [
    {
     "data": {
      "application/vnd.jupyter.widget-view+json": {
       "model_id": "2ae27edcc7a94370af1a2dc7683fe0a5",
       "version_major": 2,
       "version_minor": 0
      },
      "text/plain": [
       "VBox(children=(Figure(axes=[Axis(label='Time spent(minutes)', scale=LinearScale()), Axis(grid_color='gray', gr…"
      ]
     },
     "metadata": {},
     "output_type": "display_data"
    }
   ],
   "source": [
    "#nbi:right\n",
    "#nbi:hide_in\n",
    "ipywidgets.VBox([fig_bar1, fig_line])"
   ]
  },
  {
   "cell_type": "markdown",
   "metadata": {},
   "source": [
    "## Top states that work the longest hours\n",
    "#### Considering only people who are employed"
   ]
  },
  {
   "cell_type": "code",
   "execution_count": 6,
   "metadata": {},
   "outputs": [],
   "source": [
    "#nbi:hide_in\n",
    "merged['work_total'] = merged[work_cols].sum(axis=1)\n",
    "m_work = merged\n",
    "m_work_men = merged[merged['TESEX'] == 1]\n",
    "m_work_women = merged[merged['TESEX'] == 2]\n",
    "\n",
    "m_work = m_work[m_work['work_total'] != 0]\n",
    "m_work_men = m_work_men[m_work_men['work_total'] != 0]\n",
    "m_work_women = m_work_women[m_work_women['work_total'] != 0]\n",
    "\n",
    "m_work = m_work.loc[:, work_cols].groupby(m_work.GESTFIPS).mean()\n",
    "m_work_men = m_work_men.loc[:, work_cols].groupby(m_work_men.GESTFIPS).mean()\n",
    "m_work_women = m_work_women.loc[:, work_cols].groupby(m_work_women.GESTFIPS).mean()"
   ]
  },
  {
   "cell_type": "code",
   "execution_count": 7,
   "metadata": {},
   "outputs": [],
   "source": [
    "#nbi:hide_in\n",
    "mer_work = (m_work.sum(axis=1).sort_values(ascending=False)/60).round(2).to_frame().reset_index()\n",
    "mer_work_male = (m_work_men.sum(axis=1).sort_values(ascending=False)/60).round(2).to_frame().reset_index()\n",
    "mer_work_female = (m_work_women.sum(axis=1).sort_values(ascending=False)/60).round(2).to_frame().reset_index()\n",
    "\n",
    "merge1 = pd.merge(mer_work, mer_work_male, how='left', on='GESTFIPS')\n",
    "merge2 = pd.merge(merge1, mer_work_female, how='left', on='GESTFIPS')\n",
    "merge2 = merge2.rename(columns = {'0_x':'Overall', '0_y':'Male', 0:'Female'})\n",
    "merge2 = merge2.sort_values(by='Overall', ascending=False)\n"
   ]
  },
  {
   "cell_type": "code",
   "execution_count": 8,
   "metadata": {},
   "outputs": [],
   "source": [
    "#nbi:hide_in\n",
    "top_worktimes = merge2['Overall'][1:11].values\n",
    "top_worktimes_male = merge2['Male'][1:11].values\n",
    "top_worktimes_female = merge2['Female'][1:11].values\n",
    "\n",
    "top_workstates = ['South Dakota', 'New Mexico', 'Nebraska', 'Utah', 'Tennessee',\n",
    "                  'Oregon', 'Alaska', 'Idaho', 'Louisiana', 'Georgia']\n",
    "\n",
    "################### Top 10 work States Bar #######################\n",
    "\n",
    "sc_x3 = bq.OrdinalScale()\n",
    "sc_y3 = bq.LinearScale(min=5, max=9.7)\n",
    "ax_x3 = bq.Axis(label='States',scale=sc_x3, orientation='horizontal', color='#13294a')\n",
    "ax_y3 = bq.Axis(label = 'Avg. Work Time in Hours', scale=sc_y3, orientation='vertical', color='#13294a',\n",
    "               grid_color='gray', grid_lines='dashed')\n",
    "\n",
    "bars_topwork = bq.Bars(x = top_workstates, y=top_worktimes, padding=0.35,\n",
    "                    scales={'x': sc_x3, 'y': sc_y3}, colors=['#13294a'])\n",
    "\n",
    "lines_male = bq.Lines(x = top_workstates, y=top_worktimes_male, scales={'x': sc_x3, 'y': sc_y3}, \n",
    "                      colors=['#22A8DB'], stroke_width = 3, marker='circle', display_legend = True, \n",
    "                      labels=['Male'])\n",
    "\n",
    "lines_female = bq.Lines(x = top_workstates, y=top_worktimes_female, scales={'x': sc_x3, 'y': sc_y3}, \n",
    "                        colors=['#FC0F3A'], stroke_width = 3, marker='circle', display_legend = True, \n",
    "                        labels=['Female'])\n",
    "\n",
    "\n",
    "fig_bar2 = bq.Figure(marks = [bars_topwork, lines_male, lines_female], axes=[ax_x3, ax_y3], \n",
    "                     background_style = {'fill': 'white'},\n",
    "                     layout={'flex': '1'},\n",
    "                     title = 'States that work the longest hours and comparison of gender work gap',\n",
    "                     title_style = {'font-family': 'Montserrat', 'font-size': '20px', 'text-transform': 'uppercase',\n",
    "                                    'font-weight': '700', 'color': '#13294a'})"
   ]
  },
  {
   "cell_type": "code",
   "execution_count": 9,
   "metadata": {},
   "outputs": [
    {
     "data": {
      "application/vnd.jupyter.widget-view+json": {
       "model_id": "890f407598784e0aab489a434e6f9707",
       "version_major": 2,
       "version_minor": 0
      },
      "text/plain": [
       "Box(children=(Figure(axes=[Axis(color='#13294a', label='States', scale=OrdinalScale()), Axis(color='#13294a', …"
      ]
     },
     "metadata": {},
     "output_type": "display_data"
    }
   ],
   "source": [
    "#nbi:hide_in\n",
    "bar2box = ipywidgets.Box(children=[fig_bar2], layout=Layout(display='flex', justify='center'))\n",
    "bar2box"
   ]
  },
  {
   "cell_type": "markdown",
   "metadata": {},
   "source": [
    "## Reason for big difference between male and female in Alaska:\n",
    "*\"Almost certainly the biggest factor — we have a higher percentage of oil and gas employment than other states do, and then that industry is the highest-paid in Alaska, and … the percentages are high for males,\" said Dan Robinson, chief of research and analysis at the Alaska Department of Labor and Workforce Development.*"
   ]
  }
 ],
 "metadata": {
  "kernelspec": {
   "display_name": "Python 3",
   "language": "python",
   "name": "python3"
  },
  "language_info": {
   "codemirror_mode": {
    "name": "ipython",
    "version": 3
   },
   "file_extension": ".py",
   "mimetype": "text/x-python",
   "name": "python",
   "nbconvert_exporter": "python",
   "pygments_lexer": "ipython3",
   "version": "3.6.3"
  }
 },
 "nbformat": 4,
 "nbformat_minor": 2
}
