{
 "cells": [
  {
   "cell_type": "markdown",
   "metadata": {},
   "source": [
    "<h1><center>A Day in an American's Life</center></h1>"
   ]
  },
  {
   "cell_type": "markdown",
   "metadata": {},
   "source": [
    "<center> \n",
    "<address> \n",
    "Beena Balakrishna, Pranay Parmar, Sarvani Putta and Smriiti Singhal<br>\n",
    "The School of Information Sciences,<br>\n",
    "University of Illinois - Urbana Champaign<br>\n",
    "</address>\n",
    "</center>\n"
   ]
  },
  {
   "cell_type": "markdown",
   "metadata": {},
   "source": [
    "It is an interesting question to see how people spend the available 24 hours across the United States. Demographics and other factors such as time-zone, culture, population, socio-economic factors play a vital role in determining the life-style of people. This article examines the behaviour of person living in the United States.\n",
    "\n",
    "Using data from the American Time Use Survey (ATUS) [1], it is possible to uncover patterns in time utilization of people across the United States. For instance, the dashboard below depicts how much time people spend in various activity categories across states and the distribution."
   ]
  },
  {
   "cell_type": "code",
   "execution_count": 1,
   "metadata": {},
   "outputs": [],
   "source": [
    "#nbi:hide_in\n",
    "import pandas as pd\n",
    "import numpy as np\n",
    "import re\n",
    "import bqplot as bq\n",
    "import ipywidgets\n",
    "from ipywidgets import Layout"
   ]
  },
  {
   "cell_type": "code",
   "execution_count": 2,
   "metadata": {},
   "outputs": [],
   "source": [
    "#nbi:hide_in\n",
    "#nbi:hide_out\n",
    "ats_sum = pd.read_csv('https://raw.githubusercontent.com/sarvaniputta/nbinteract_tutorial/master/atussum_2017.csv')\n",
    "cps = pd.read_csv('https://raw.githubusercontent.com/sarvaniputta/nbinteract_tutorial/master/atuscps_2017.csv', usecols=['TUCASEID', 'GESTFIPS'])\n",
    "cps_ = cps.groupby('TUCASEID').GESTFIPS.first().to_frame()\n",
    "merged = ats_sum.merge(cps_, left_on = 'TUCASEID', right_index = True)\n",
    "\n",
    "def activity_columns(data, activity_code):\n",
    "    col_prefix = \"t\" + activity_code\n",
    "    return [column for column in data.columns if col_prefix in column]\n",
    "\n",
    "\n",
    "\n",
    "work_cols = activity_columns(merged, '0501')\n",
    "travel_cols = activity_columns(merged, '1805')\n",
    "sleep_cols = activity_columns(merged, '0101')\n",
    "religion_cols = activity_columns(merged, '1401')\n",
    "leisure_cols = activity_columns(merged, '1203')\n",
    "sports_cols = activity_columns(merged, '1301')\n",
    "housework_cols = activity_columns(merged, '0201')\n",
    "\n",
    "work_statewise = merged.loc[:, work_cols].groupby(merged.GESTFIPS).mean()\n",
    "travel_statewise = merged.loc[:, travel_cols].groupby(merged.GESTFIPS).mean()\n",
    "sleep_statewise = merged.loc[:, sleep_cols].groupby(merged.GESTFIPS).mean()\n",
    "religion_statewise = merged.loc[:, religion_cols].groupby(merged.GESTFIPS).mean()\n",
    "leisure_statewise = merged.loc[:, leisure_cols].groupby(merged.GESTFIPS).mean()\n",
    "sports_statewise = merged.loc[:, sports_cols].groupby(merged.GESTFIPS).mean()\n",
    "housework_statewise = merged.loc[:, housework_cols].groupby(merged.GESTFIPS).mean()\n",
    "\n",
    "activity_cols_dict = {0: work_cols, 1: travel_cols, 2: sleep_cols, 3: religion_cols, 4: leisure_cols,\n",
    "                      5: sports_cols, 6: housework_cols}"
   ]
  },
  {
   "cell_type": "code",
   "execution_count": 3,
   "metadata": {
    "scrolled": false
   },
   "outputs": [],
   "source": [
    "#nbi:hide_in\n",
    "#nbi:hide_out\n",
    "activity_list = ['Average Working Time', 'Average Travel Time', 'Average Sleeping Time', 'Average Religious Time',\n",
    "                'Average Leisure Time', 'Average Sports Time', 'Average Housework Time']\n",
    "\n",
    "act_dd = ipywidgets.Dropdown(options = activity_list, description = 'Select activity', \n",
    "                             style={'description_width': 'initial'})\n",
    "\n",
    "\n",
    "######################### Map ############################\n",
    "cscale = bq.ColorScale(scheme='Blues')        \n",
    "                   # reverse the colorscale or Hawaii is not visible\n",
    "\n",
    "map_tt = bq.Tooltip(labels = ['State', 'Time (minutes)'], fields = ['name', 'color'])\n",
    "sc_geo = bq.AlbersUSA(scale=2700)\n",
    "states_map = bq.Map(color = work_statewise.sum(axis=1).round(1).to_dict(), \n",
    "                     map_data=bq.topo_load('map_data/USStatesMap.json'),\n",
    "                    scales = {'projection':sc_geo, 'color':cscale},tooltip = map_tt,\n",
    "                    interactions = {'click': 'select', 'hover':'tooltip', },\n",
    "                    anchor_style = {'fill':'red'}, \n",
    "                    selected_style = {'opacity': 1.0},\n",
    "                    unselected_style = {'opacity': 1.0})\n",
    "\n",
    "cax = bq.ColorAxis(scale=cscale, orientation='vertical', side='left', label='Time(minutes)')\n",
    "fig_map = bq.Figure(marks=[states_map],axes=[cax], title = 'Average Working Time',\n",
    "                   layout=Layout(min_width='800px', min_height='800px'),\n",
    "                   background_style = {'fill': 'white'},\n",
    "                   title_style = {'font-size': '20px', 'text-transform': 'uppercase',\n",
    "                                    'font-weight': '700', 'color': '#13294a'},)\n",
    "fig_map.fig_margin = {'bottom': 0, 'top': 0, 'left': 65, 'right': 0}\n",
    "fig_map.aspect_ratio = 1920/1080\n",
    "\n",
    "###########################################################\n",
    "\n",
    "######################### Bar #############################\n",
    "time_spent = merged.loc[:, ['TUCASEID'] + work_cols].set_index('TUCASEID').sum(axis=1)\n",
    "\n",
    "def normalized_hist(data, bins=10):\n",
    "    counts, bins = np.histogram(data, bins=bins)\n",
    "    counts = counts*100/counts.sum()\n",
    "    return bins, counts  \n",
    "\n",
    "sc_x2 = bq.LinearScale()\n",
    "sc_y2 = bq.LinearScale()\n",
    "ax_x2 = bq.Axis(label = 'Time spent(minutes)', scale=sc_x2, orientation='horizontal')\n",
    "ax_y2 = bq.Axis(label='Population%', scale=sc_y2,orientation='vertical', grid_color='gray', grid_lines='dashed')\n",
    "x, y = normalized_hist(time_spent, bins=24)\n",
    "bars_hist = bq.Bars(x = x[:-1], y=y, align='right', scales={'x': sc_x2, 'y': sc_y2}, colors=['#13294a'])\n",
    "#           ,width=bins[1]-bins[0]  , edgecolor='black')\n",
    "fig_bar1 = bq.Figure(marks = [bars_hist],axes=[ax_x2, ax_y2], background_style = {'fill': 'white'}, title='Population Distribution of Time Spent')\n",
    "fig_bar1.layout = Layout(max_width='99%', max_height='60%')\n",
    "#fig_bar1.fig_margin = {'bottom':50, 'top':50, 'left':20, 'right':10}\n",
    "\n",
    "###########################################################\n",
    "\n",
    "##################### Age Line Plot #######################\n",
    "age_wise_act_sum = merged.groupby('TEAGE').sum()[work_cols].sum(axis=1)\n",
    "age_wise_count = merged.groupby('TEAGE').count()['TUCASEID']\n",
    "y_data_line = (age_wise_act_sum / age_wise_count).values\n",
    "x_data_line = sorted(ats_sum['TEAGE'].unique())\n",
    "\n",
    "x_sc_line = bq.OrdinalScale()\n",
    "y_sc_line = bq.LinearScale()\n",
    "\n",
    "x_ax_line = bq.Axis(scale = x_sc_line, num_ticks=10, label='Age', color='#13294a')\n",
    "y_ax_line = bq.Axis(scale = y_sc_line, num_ticks=10, \n",
    "                   orientation = 'vertical', label='Time spent in minutes',\n",
    "                    grid_color='gray', grid_lines='dashed')\n",
    "\n",
    "lines = bq.Lines(x = x_data_line, y = y_data_line, scales = {'x': x_sc_line, 'y': y_sc_line},\n",
    "                colors=['#13294a'], interpolation = 'basis')\n",
    "\n",
    "fig_line = bq.Figure(marks = [lines], axes = [x_ax_line, y_ax_line], \n",
    "                    title='Average Working Time across US', \n",
    "                    background_style = {'fill': 'white'})\n",
    "fig_line.layout = Layout(max_width='99%', max_height='60%')\n",
    "\n",
    "###########################################################\n",
    "\n",
    "##################### Interactivity #######################\n",
    "\n",
    "def on_select_map(change):\n",
    "    if not change['new']:\n",
    "        selected_fips = merged.GESTFIPS.unique()\n",
    "    else:\n",
    "        selected_fips = change['new']\n",
    "        states_map.selected = [selected_fips[-1]]\n",
    "    activity = act_dd.index\n",
    "    columns = activity_cols_dict[activity]\n",
    "    x, y = normalized_hist(merged\n",
    "                            .loc[merged.GESTFIPS.isin([selected_fips[-1]]), ['TUCASEID']+columns]\n",
    "                            .set_index('TUCASEID')\n",
    "                            .sum(axis=1), bins=24)\n",
    "    bars_hist.x = x\n",
    "    bars_hist.y = y\n",
    "    # For updating line plot\n",
    "    #merged_subset = merged[merged['GESTFIPS'] == selected_fips[-1]]\n",
    "    #age_wise_act_sum = merged_subset.groupby('TEAGE').sum()[work_cols].sum(axis=1)\n",
    "    #age_wise_count = merged_subset.groupby('TEAGE').count()['TUCASEID']\n",
    "    #lines.y = (age_wise_act_sum / age_wise_count).values\n",
    "    #lines.x = sorted(age_wise_act_sum.index)\n",
    "    \n",
    "    #print(selected_fips) Fix needed for selectex FIPS [50, 36]\n",
    "# Observe above changes \n",
    "states_map.observe(on_select_map, 'selected')\n",
    "\n",
    "def on_activity_change(change):\n",
    "    states_map.selected=[]\n",
    "    activity = act_dd.index\n",
    "    columns = activity_cols_dict[activity]\n",
    "    filtered = merged.loc[:, columns].groupby(merged.GESTFIPS).mean().sum(axis=1).round(1).to_dict()\n",
    "    states_map.color = filtered\n",
    "    fig_map.title = act_dd.value\n",
    "    # For updating line plot\n",
    "    age_wise_act_sum = merged.groupby('TEAGE').sum()[columns].sum(axis=1)\n",
    "    age_wise_count = merged.groupby('TEAGE').count()['TUCASEID']\n",
    "    lines.y = (age_wise_act_sum / age_wise_count).values\n",
    "    lines.x = sorted(ats_sum['TEAGE'].unique())\n",
    "    fig_line.title = act_dd.value + ' across US'\n",
    "    x, y = normalized_hist(merged.loc[:, ['TUCASEID']+columns].set_index('TUCASEID').sum(axis=1), bins=24)\n",
    "    bars_hist.x = x\n",
    "    bars_hist.y = y\n",
    "    \n",
    "\n",
    "    \n",
    "    \n",
    "# Observe above changes \n",
    "act_dd.observe(on_activity_change, 'value')\n",
    "\n",
    "###########################################################\n",
    "\n",
    "# ipywidgets.VBox([act_dd, ipywidgets.HBox([fig_map, ipywidgets.VBox([fig_bar1, fig_line])])])"
   ]
  },
  {
   "cell_type": "code",
   "execution_count": 4,
   "metadata": {},
   "outputs": [
    {
     "data": {
      "application/vnd.jupyter.widget-view+json": {
       "model_id": "654f8892558a4280bc29c14134f8d60f",
       "version_major": 2,
       "version_minor": 0
      },
      "text/plain": [
       "VBox(children=(Dropdown(description='Select activity', options=('Average Working Time', 'Average Travel Time',…"
      ]
     },
     "metadata": {},
     "output_type": "display_data"
    }
   ],
   "source": [
    "#nbi:left\n",
    "#nbi:hide_in\n",
    "ipywidgets.VBox([act_dd, fig_map])"
   ]
  },
  {
   "cell_type": "code",
   "execution_count": 5,
   "metadata": {},
   "outputs": [
    {
     "data": {
      "application/vnd.jupyter.widget-view+json": {
       "model_id": "1736b0bfb7c14c73af754094bc9e87f8",
       "version_major": 2,
       "version_minor": 0
      },
      "text/plain": [
       "VBox(children=(Figure(axes=[Axis(label='Time spent(minutes)', scale=LinearScale()), Axis(grid_color='gray', gr…"
      ]
     },
     "metadata": {},
     "output_type": "display_data"
    }
   ],
   "source": [
    "#nbi:right\n",
    "#nbi:hide_in\n",
    "ipywidgets.VBox([fig_bar1, fig_line])"
   ]
  },
  {
   "cell_type": "markdown",
   "metadata": {},
   "source": [
    "Let’s take a closer look into the statistics of 7 specific activities and visualise how it affects the lifestyle of people of certain states.\n",
    "1. *Work*: \n",
    "It is surprising that the people from South Dakota are the real hard worker as they spend an average of 301.7 minutes on work- and work-related activities. Whereas the people from the states like California and New York who are expected to spend most of their time working as the Bay area and east-coast region are referred as the IT and corporate hub but turns out that these people are smart-workers and allot their time wisely.\n",
    "2. *Travel*: \n",
    "In the current day situation, commuting from one place takes a large portion of the day and seems like people from Maryland tend to travel the most. However, it is also a known fact that New Yorkers spend most of their time in commuting from one part of the another in the city.\n",
    "3. *Sleeping*: \n",
    "Looks like people from Rhode Island love to sleep as they seem to spend an average of 593.1 minutes on this activity. Islanders tend to have a very relaxed life-style, this visualization only adds more proof to this fact that they live a very stress less life. Sadly, the people from Alaska, Nebraska and South Dakota comparatively catch on lesser sleep. Wonder what’s keeping them up in the night!\n",
    "4. *Religion*: \n",
    "Two words: The South. It comes as no surprise that people from the southern regions of the United States are involved in religious activities. Arkansas, Mississippi, Alabama, North Carolina, South Carolina, Texas, Louisiana and Tennessee spend a good 17-24 minutes on paying respect and praying to the Lord.\n",
    "5. *Leisure*: \n",
    "Industrious Utah residents are reported to spend very little time in leisure activities daily. Contrasting behaviour is observed from the people of West Virginia, where people spend 364.2 minutes on leisure activities like socializing, relaxing, playing games, watching TV, etc.\n",
    "6. *Sports*: \n",
    "The tiny town Vermont is a big cradle of Olympians that is home to big sportsmen namely Harry Blanchard, Jimmy Cochran, Paul Hackett, Billy Kidd and Ross Powers.\n",
    "7. *House-hold work*:\n",
    "From the observation made, it looks like Alaskans are neat-freaks because they spend 82.5 minutes on an average daily on house-hold activities. On the other hand, residents of Wyoming barely spare 20 minutes on maintaining a neater house."
   ]
  },
  {
   "cell_type": "markdown",
   "metadata": {},
   "source": [
    "**NOTE**: It is curious the plot of time spent(minutes) VS population% has the highest 0 value under each category of activity. The ‘0’ value indicates that people spent 0 minutes in doing that particular activity. ATUS uses the convention of blanking improper data to '0' which could increase the proportion of population that shows up with no time spent on activities."
   ]
  },
  {
   "cell_type": "markdown",
   "metadata": {},
   "source": [
    "### Hard workers by choice ?\n",
    "People in some states like South Dakota seem to work significantly longer than others. Let us dive deeper to check for plausible causal factors. The chart below shows the gender distribution of respondents from the top working states namely South Dakota, New Mexico, Nebraska, Utah, Tennessee, Oregon, Alaska, Idaho, Louisiana and Georgia residents."
   ]
  },
  {
   "cell_type": "code",
   "execution_count": 6,
   "metadata": {},
   "outputs": [],
   "source": [
    "#nbi:hide_in\n",
    "merged['work_total'] = merged[work_cols].sum(axis=1)\n",
    "m_work = merged\n",
    "m_work_men = merged[merged['TESEX'] == 1]\n",
    "m_work_women = merged[merged['TESEX'] == 2]\n",
    "\n",
    "m_work = m_work[m_work['work_total'] != 0]\n",
    "m_work_men = m_work_men[m_work_men['work_total'] != 0]\n",
    "m_work_women = m_work_women[m_work_women['work_total'] != 0]\n",
    "\n",
    "m_work = m_work.loc[:, work_cols].groupby(m_work.GESTFIPS).mean()\n",
    "m_work_men = m_work_men.loc[:, work_cols].groupby(m_work_men.GESTFIPS).mean()\n",
    "m_work_women = m_work_women.loc[:, work_cols].groupby(m_work_women.GESTFIPS).mean()"
   ]
  },
  {
   "cell_type": "code",
   "execution_count": 7,
   "metadata": {},
   "outputs": [],
   "source": [
    "#nbi:hide_in\n",
    "mer_work = (m_work.sum(axis=1).sort_values(ascending=False)/60).round(2).to_frame().reset_index()\n",
    "mer_work_male = (m_work_men.sum(axis=1).sort_values(ascending=False)/60).round(2).to_frame().reset_index()\n",
    "mer_work_female = (m_work_women.sum(axis=1).sort_values(ascending=False)/60).round(2).to_frame().reset_index()\n",
    "\n",
    "merge1 = pd.merge(mer_work, mer_work_male, how='left', on='GESTFIPS')\n",
    "merge2 = pd.merge(merge1, mer_work_female, how='left', on='GESTFIPS')\n",
    "merge2 = merge2.rename(columns = {'0_x':'Overall', '0_y':'Male', 0:'Female'})\n",
    "merge2 = merge2.sort_values(by='Overall', ascending=False)\n"
   ]
  },
  {
   "cell_type": "code",
   "execution_count": 8,
   "metadata": {},
   "outputs": [],
   "source": [
    "#nbi:hide_in\n",
    "top_worktimes = merge2['Overall'][1:11].values\n",
    "top_worktimes_male = merge2['Male'][1:11].values\n",
    "top_worktimes_female = merge2['Female'][1:11].values\n",
    "\n",
    "top_workstates = ['South Dakota', 'New Mexico', 'Nebraska', 'Utah', 'Tennessee',\n",
    "                  'Oregon', 'Alaska', 'Idaho', 'Louisiana', 'Georgia']\n",
    "\n",
    "################### Top 10 work States Bar #######################\n",
    "\n",
    "sc_x3 = bq.OrdinalScale()\n",
    "sc_y3 = bq.LinearScale(min=5, max=9.7)\n",
    "ax_x3 = bq.Axis(label='States',scale=sc_x3, orientation='horizontal', color='#13294a')\n",
    "ax_y3 = bq.Axis(label = 'Avg. Work Time in Hours', scale=sc_y3, orientation='vertical', color='#13294a',\n",
    "               grid_color='gray', grid_lines='dashed')\n",
    "\n",
    "bars_topwork = bq.Bars(x = top_workstates, y=top_worktimes, padding=0.35,\n",
    "                    scales={'x': sc_x3, 'y': sc_y3}, colors=['#13294a'])\n",
    "\n",
    "lines_male = bq.Lines(x = top_workstates, y=top_worktimes_male, scales={'x': sc_x3, 'y': sc_y3}, \n",
    "                      colors=['#22A8DB'], stroke_width = 3, marker='circle', display_legend = True, \n",
    "                      labels=['Male'])\n",
    "\n",
    "lines_female = bq.Lines(x = top_workstates, y=top_worktimes_female, scales={'x': sc_x3, 'y': sc_y3}, \n",
    "                        colors=['#FC0F3A'], stroke_width = 3, marker='circle', display_legend = True, \n",
    "                        labels=['Female'])\n",
    "\n",
    "\n",
    "fig_bar2 = bq.Figure(marks = [bars_topwork, lines_male, lines_female], axes=[ax_x3, ax_y3], \n",
    "                     background_style = {'fill': 'white'},\n",
    "                     layout={'flex': '1'},\n",
    "                     title = 'States that work the longest hours and comparison of gender work gap',\n",
    "                     title_style = {'font-size': '20px', 'text-transform': 'uppercase',\n",
    "                                    'font-weight': '700', 'color': '#13294a'})"
   ]
  },
  {
   "cell_type": "code",
   "execution_count": 9,
   "metadata": {},
   "outputs": [
    {
     "data": {
      "application/vnd.jupyter.widget-view+json": {
       "model_id": "dd60e399a9254fd98750f8850dc76421",
       "version_major": 2,
       "version_minor": 0
      },
      "text/plain": [
       "Box(children=(Figure(axes=[Axis(color='#13294a', label='States', scale=OrdinalScale()), Axis(color='#13294a', …"
      ]
     },
     "metadata": {},
     "output_type": "display_data"
    }
   ],
   "source": [
    "#nbi:hide_in\n",
    "bar2box = ipywidgets.Box(children=[fig_bar2], layout=Layout(display='flex', justify='center'))\n",
    "bar2box"
   ]
  },
  {
   "cell_type": "markdown",
   "metadata": {},
   "source": [
    "Women in general seem to work lower hours than men in most of the states. This might be attributed to the wage inequality faced by women. From the latest study from the Institute for Women’s Policy Research noted that the 80 cents on the dollar comparative wage figure usually cited is actually an overestimation for many women. In many segments of the population, women earn just 49 cents on a white man’s dollar. This pay disparity might be a reason for the lower hours women work. Also women typically still face greated commitments at home (childcare etc.) which could also lead to the trend of lower hours worked.\n",
    "\n",
    "Alaska seems to be an extreme outlier in terms of gender disparity. This can be explained from the high percentage of jobs in oil and gas industry in Alaska which is predominantly male worker focused. Even experts opine so [3].\n",
    "\n",
    "*\"Almost certainly the biggest factor — we have a higher percentage of oil and gas employment than other states do, and then that industry is the highest-paid in Alaska, and … the percentages are high for males,\" said Dan Robinson, chief of research and analysis at the Alaska Department of Labor and Workforce Development.*"
   ]
  },
  {
   "cell_type": "markdown",
   "metadata": {},
   "source": [
    "We do not see much correlation with hours worked with the gender distribution. Intuition says that hours worked will rise inversely to the hourly wages. Let us see if this is really the case. The chart below shows the average hourly wage of each state."
   ]
  },
  {
   "cell_type": "code",
   "execution_count": 12,
   "metadata": {},
   "outputs": [
    {
     "data": {
      "application/vnd.jupyter.widget-view+json": {
       "model_id": "3190f8a836ed416791aba2bac038c504",
       "version_major": 2,
       "version_minor": 0
      },
      "text/plain": [
       "Box(children=(Figure(axes=[ColorAxis(label='Wage ($)', orientation='vertical', scale=ColorScale(scheme='Blues'…"
      ]
     },
     "metadata": {},
     "output_type": "display_data"
    }
   ],
   "source": [
    "#nbi:hide_in\n",
    "respond = pd.read_csv('https://raw.githubusercontent.com/sarvaniputta/nbinteract_tutorial/master/atusresp_2017.dat', usecols=['TUCASEID', 'TRERNHLY'])\n",
    "wage_merged = pd.merge(merged, respond, how='left', on = 'TUCASEID' )  # merging datasets on case ID\n",
    "new_wage_merged= wage_merged[wage_merged.TRERNHLY != -1] \n",
    "salary_per_hr= new_wage_merged.groupby('GESTFIPS')['TRERNHLY'].mean()/100\n",
    "\n",
    "cscale2 = bq.ColorScale(scheme = 'Blues')\n",
    "                       # reverse the colorscale or Hawaii is not visible\n",
    "                     \n",
    "map_tt2 = bq.Tooltip(labels = ['State', 'Hourly Wage ($)'], fields = ['name', 'color'])\n",
    "sc_geo2 = bq.AlbersUSA(scale=2700)\n",
    "states_map2 = bq.Map(color = (salary_per_hr).round(1).to_dict(), \n",
    "                     map_data=bq.topo_load('map_data/USStatesMap.json'),\n",
    "                    scales = {'projection':sc_geo2, 'color':cscale2}, \n",
    "                   tooltip = map_tt2)\n",
    "\n",
    "cax2 = bq.ColorAxis(scale=cscale2, orientation='vertical', side='left', label='Wage ($)',)\n",
    "fig_map2 = bq.Figure(marks=[states_map2],axes=[cax2], title = 'Average hourly wage',\n",
    "                layout={'flex': '1'},\n",
    "                background_style = {'fill': 'white'},\n",
    "                title_style = {'font-size': '20px', 'text-transform': 'uppercase',\n",
    "                               'font-weight': '700', 'color': '#13294a'},)\n",
    "fig_map2.fig_margin = {'bottom': 0, 'top': 0, 'left': 65, 'right': 0}\n",
    "fig_map2.aspect_ratio = 1920/1080\n",
    "               \n",
    "bar2wage = ipywidgets.Box(children=[fig_map2], layout=Layout(display='flex', justify='center'))\n",
    "bar2wage"
   ]
  },
  {
   "cell_type": "markdown",
   "metadata": {},
   "source": [
    "This chart explains South Dakota's position in working hours more clearly. The state has the third-lowest average wage for employed people in the country behind only Arkansas and Mississippi [2]. Roughly 21 percent of employed South Dakota residents, about 87,000 people, make under \\\\$30,000 a year; 41 percent of employed South Dakota residents, about 169,400 people, make under \\\\$35,000 a year, and 71 percent of employed South Dakota residents, about 292,000 people, make under \\\\$40,000 a year. Despite attempts to lure new employers and improve pay for workers, the state has made little progress over the past few decades. After languishing near the bottom for years, the state had the lowest average pay in the nation in 2008 and has moved up only two spots since then. This could be the reason why the residents of South Dakota have to put in extra hours to make ends meet [4]. However, correlation is not causation. To this effect, it is an interesting question to see Mississipi rank lower in hours worked given the lower hourly wage there."
   ]
  },
  {
   "cell_type": "markdown",
   "metadata": {},
   "source": [
    "### Stay single to have more leisure "
   ]
  },
  {
   "cell_type": "markdown",
   "metadata": {},
   "source": [
    "“Behind every successful man, there is a woman”. We put this oft quoted maxim to the test. Based on the presumption, we came up with an idea to visually observe if relationships really bring about a change in one’s life. From the chart below,it is evident that people tend to spend more time working not only at the office but also at home! Man, that must be very tiring. Single people also tend to sleep in longer and have more time for leisure."
   ]
  },
  {
   "cell_type": "code",
   "execution_count": 11,
   "metadata": {},
   "outputs": [
    {
     "data": {
      "application/vnd.jupyter.widget-view+json": {
       "model_id": "86d16b964ff84e01acd73a550acda9a6",
       "version_major": 2,
       "version_minor": 0
      },
      "text/plain": [
       "Box(children=(Figure(axes=[Axis(color='#13294a', orientation='vertical', scale=OrdinalScale()), Axis(color='#1…"
      ]
     },
     "metadata": {},
     "output_type": "display_data"
    }
   ],
   "source": [
    "#nbi:hide_in\n",
    "spouse_res = merged[(merged['TRSPPRES'] == 1) | (merged['TRSPPRES'] == 2)]\n",
    "single_res = merged[(merged['TRSPPRES'] == 3)]\n",
    "\n",
    "# Gathering data for plots\n",
    "list_acts = ['Avg. Work Time', 'Avg. Travel Time', 'Avg. Sleep Time', 'Avg. Religion Time',\n",
    "                'Avg. Leisure Time', 'Avg. Sports Time', 'Avg. Housework Time']\n",
    "\n",
    "def collect_avg_times(list_act_cols, data):\n",
    "    totals_dict = {}\n",
    "    for num, col in enumerate(list_act_cols):\n",
    "        totals_dict[num + 1] = data[col].sum(axis=1).mean()/60\n",
    "    return totals_dict\n",
    "\n",
    "list_act_cols = [work_cols, travel_cols, sleep_cols, religion_cols, leisure_cols, sports_cols, housework_cols]\n",
    "spouse_dict1 = collect_avg_times(list_act_cols, spouse_res)\n",
    "single_dict2 = collect_avg_times(list_act_cols, single_res)\n",
    "\n",
    "################### Working Vs Nonworking Bar #######################\n",
    "\n",
    "sc_x4 = bq.OrdinalScale()\n",
    "sc_y4 = bq.LinearScale()\n",
    "ax_x4 = bq.Axis(scale=sc_x4, orientation='vertical', color='#13294a')\n",
    "ax_y4 = bq.Axis(label = 'Avg. Time in Hours', scale=sc_y4, orientation='horizontal', color='#13294a',\n",
    "               grid_color='lightgray', grid_lines='dashed')\n",
    "\n",
    "bars_grouped = bq.Bars(x = list_acts, y=[list(single_dict2.values()), list(spouse_dict1.values())], padding=0.1,\n",
    "                    scales={'x': sc_x4, 'y': sc_y4}, colors=['#13294a','#e84a27'], \n",
    "                       display_legend = True, labels=['No spouse/partner','Spouse/Unmarried Partner'], \n",
    "                       orientation='horizontal', type='grouped')\n",
    "\n",
    "\n",
    "fig_bar3 = bq.Figure(marks = [bars_grouped], axes=[ax_x4, ax_y4], \n",
    "                     background_style = {'fill': 'white'},\n",
    "                     layout={'flex':'1'},\n",
    "                     title = 'Activity avg. times with and w/o spouse or unmarried partner',\n",
    "                     title_style = {'font-family': 'Inherit', 'font-size': '20px', 'text-transform': 'uppercase',\n",
    "                                    'font-weight': '600', 'color': '#13294a'},\n",
    "                     fig_margin = {'bottom': 60, 'top': 60, 'left': 130, 'right': 20})\n",
    "bar2relation = ipywidgets.Box(children=[fig_bar3], layout=Layout(display='flex', justify='center'))\n",
    "bar2relation"
   ]
  },
  {
   "cell_type": "markdown",
   "metadata": {},
   "source": [
    "On second thought, a possible confounding factor for this analysis is that single respondents are typically younger and have a different lifestyle compared to older respondents in a relationship. A longitudinal study across ages would be necessary to obtain more insights into this extremely interesting question."
   ]
  },
  {
   "cell_type": "markdown",
   "metadata": {},
   "source": [
    "We have considered some questions on how Americans spend their time. While most of the observations are interesting, deeper dives are necessary to understand causal factors. As they say \"correlation is not causation\". On the other hand, if you are looking to relocate, know that there are some places more suited to your lifestyle than others."
   ]
  },
  {
   "cell_type": "markdown",
   "metadata": {},
   "source": [
    "Citations\n",
    "\n",
    "[1] American Time Use Survey — 2017 Microdata Files https://www.bls.gov/tus/datafiles_2017.htm\n",
    "\n",
    "[2] Current Population Survey (CPS) https://www.census.gov/programs-surveys/cps/data-detail.html\n",
    "\n",
    "[3] https://www.adn.com/business-economy/2017/02/27/alaska-has-one-of-nations-widest-wage-gaps-between-men-and-women/\n",
    "\n",
    "[4] https://www.argusleader.com/story/news/2019/01/28/jobs-abound-but-low-wages-hamper-south-dakota-workforce/2699405002/"
   ]
  }
 ],
 "metadata": {
  "kernelspec": {
   "display_name": "Python 3",
   "language": "python",
   "name": "python3"
  },
  "language_info": {
   "codemirror_mode": {
    "name": "ipython",
    "version": 3
   },
   "file_extension": ".py",
   "mimetype": "text/x-python",
   "name": "python",
   "nbconvert_exporter": "python",
   "pygments_lexer": "ipython3",
   "version": "3.6.3"
  }
 },
 "nbformat": 4,
 "nbformat_minor": 2
}
